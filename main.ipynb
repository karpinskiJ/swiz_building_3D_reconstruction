{
 "cells": [
  {
   "cell_type": "code",
   "execution_count": 1,
   "metadata": {},
   "outputs": [],
   "source": [
    "import cv2\n",
    "import numpy as np\n",
    "import os\n",
    "from scipy.optimize import least_squares\n",
    "# from tomlkit import boolean\n",
    "from tqdm import tqdm\n",
    "import matplotlib.pyplot as plt\n",
    "from mpl_toolkits.mplot3d import Axes3D\n",
    "from data import Image_loader\n",
    "import lib"
   ]
  },
  {
   "cell_type": "markdown",
   "metadata": {},
   "source": [
    "Load Images"
   ]
  },
  {
   "cell_type": "code",
   "execution_count": 14,
   "metadata": {},
   "outputs": [],
   "source": [
    "img_obj = Image_loader(\"Datasets\\\\castle-P30\")\n",
    "enable_bundle_adjustment = False"
   ]
  },
  {
   "cell_type": "markdown",
   "metadata": {},
   "source": [
    "Finding keypoints from 2 images"
   ]
  },
  {
   "cell_type": "code",
   "execution_count": 3,
   "metadata": {},
   "outputs": [],
   "source": [
    "cv2.namedWindow('image', cv2.WINDOW_NORMAL)\n",
    "pose_array = img_obj.K.ravel()\n",
    "transform_matrix_0 = np.array([[1, 0, 0, 0], [0, 1, 0, 0], [0, 0, 1, 0]])\n",
    "transform_matrix_1 = np.empty((3, 4))\n",
    "\n",
    "pose_0 = np.matmul(img_obj.K, transform_matrix_0)\n",
    "pose_1 = np.empty((3, 4)) \n",
    "total_points = np.zeros((1, 3))\n",
    "total_colors = np.zeros((1, 3))\n",
    "\n",
    "image_0 = img_obj.downscale_image(cv2.imread(img_obj.image_list[0]))\n",
    "image_1 = img_obj.downscale_image(cv2.imread(img_obj.image_list[1]))\n",
    "\n",
    "feature_0, feature_1 = lib.find_keypoints(image_0, image_1)"
   ]
  },
  {
   "cell_type": "markdown",
   "metadata": {},
   "source": [
    "Calculating Essential and Rotation Matrixes"
   ]
  },
  {
   "cell_type": "code",
   "execution_count": 4,
   "metadata": {},
   "outputs": [],
   "source": [
    "essential_matrix, em_mask = cv2.findEssentialMat(feature_0, feature_1, img_obj.K, method=cv2.RANSAC, prob=0.999, threshold=0.4, mask=None)\n",
    "feature_0 = feature_0[em_mask.ravel() == 1]\n",
    "feature_1 = feature_1[em_mask.ravel() == 1]\n",
    "\n",
    "\n",
    "_, rot_matrix, tran_matrix, em_mask = cv2.recoverPose(essential_matrix, feature_0, feature_1, img_obj.K)\n",
    "feature_0 = feature_0[em_mask.ravel() > 0]\n",
    "feature_1 = feature_1[em_mask.ravel() > 0]\n",
    "transform_matrix_1[:3, :3] = np.matmul(rot_matrix, transform_matrix_0[:3, :3])\n",
    "transform_matrix_1[:3, 3] = transform_matrix_0[:3, 3] + np.matmul(transform_matrix_0[:3, :3], tran_matrix.ravel())"
   ]
  },
  {
   "cell_type": "markdown",
   "metadata": {},
   "source": [
    "Triangulation"
   ]
  },
  {
   "cell_type": "code",
   "execution_count": 5,
   "metadata": {},
   "outputs": [],
   "source": [
    "pose_1 = np.matmul(img_obj.K, transform_matrix_1)\n",
    "\n",
    "feature_0, feature_1, points_3d = lib.triangulation(pose_0, pose_1, feature_0, feature_1)"
   ]
  },
  {
   "cell_type": "markdown",
   "metadata": {},
   "source": []
  },
  {
   "cell_type": "code",
   "execution_count": 6,
   "metadata": {},
   "outputs": [
    {
     "name": "stdout",
     "output_type": "stream",
     "text": [
      "REPROJECTION ERROR:  0.006572311839443069\n"
     ]
    }
   ],
   "source": [
    "error, points_3d = lib.reprojection_error(points_3d, feature_1, transform_matrix_1, img_obj.K, homogenity = 1)\n",
    "print(\"REPROJECTION ERROR: \", error)\n"
   ]
  },
  {
   "cell_type": "markdown",
   "metadata": {},
   "source": [
    "PnP"
   ]
  },
  {
   "cell_type": "code",
   "execution_count": 7,
   "metadata": {},
   "outputs": [],
   "source": [
    "_, _, feature_1, points_3d, _ = lib.PnP(points_3d, feature_1, img_obj.K, np.zeros((5, 1), dtype=np.float32), feature_0, initial=1)"
   ]
  },
  {
   "cell_type": "code",
   "execution_count": 8,
   "metadata": {},
   "outputs": [],
   "source": [
    "total_images = len(img_obj.image_list) - 2 \n",
    "pose_array = np.hstack((np.hstack((pose_array, pose_0.ravel())), pose_1.ravel()))"
   ]
  },
  {
   "cell_type": "code",
   "execution_count": 9,
   "metadata": {},
   "outputs": [
    {
     "name": "stderr",
     "output_type": "stream",
     "text": [
      "  0%|          | 0/28 [00:00<?, ?it/s]"
     ]
    },
    {
     "name": "stdout",
     "output_type": "stream",
     "text": [
      " Shape New Array (1075, 2) (1075, 2)\n",
      "Reprojection Error:  1.250388848252236\n"
     ]
    },
    {
     "data": {
      "image/png": "[encoded data removed]",
      "text/plain": [
       "<Figure size 432x288 with 1 Axes>"
      ]
     },
     "metadata": {
      "needs_background": "light"
     },
     "output_type": "display_data"
    },
    {
     "name": "stderr",
     "output_type": "stream",
     "text": [
      "  4%|▎         | 1/28 [00:00<00:24,  1.10it/s]"
     ]
    },
    {
     "name": "stdout",
     "output_type": "stream",
     "text": [
      " Shape New Array (858, 2) (858, 2)\n",
      "Reprojection Error:  2.9059230243830276\n"
     ]
    },
    {
     "data": {
      "image/png": "[encoded data removed]",
      "text/plain": [
       "<Figure size 432x288 with 1 Axes>"
      ]
     },
     "metadata": {
      "needs_background": "light"
     },
     "output_type": "display_data"
    },
    {
     "name": "stderr",
     "output_type": "stream",
     "text": [
      "  7%|▋         | 2/28 [00:01<00:23,  1.10it/s]"
     ]
    },
    {
     "name": "stdout",
     "output_type": "stream",
     "text": [
      " Shape New Array (1479, 2) (1479, 2)\n",
      "Reprojection Error:  0.29458859234723156\n"
     ]
    },
    {
     "data": {
      "image/png": "[encoded data removed]",
      "text/plain": [
       "<Figure size 432x288 with 1 Axes>"
      ]
     },
     "metadata": {
      "needs_background": "light"
     },
     "output_type": "display_data"
    },
    {
     "name": "stderr",
     "output_type": "stream",
     "text": [
      " 11%|█         | 3/28 [00:02<00:23,  1.08it/s]"
     ]
    },
    {
     "name": "stdout",
     "output_type": "stream",
     "text": [
      " Shape New Array (990, 2) (990, 2)\n",
      "Reprojection Error:  1.1359981150773097\n"
     ]
    },
    {
     "data": {
      "image/png": "[encoded data removed]",
      "text/plain": [
       "<Figure size 432x288 with 1 Axes>"
      ]
     },
     "metadata": {
      "needs_background": "light"
     },
     "output_type": "display_data"
    },
    {
     "name": "stderr",
     "output_type": "stream",
     "text": [
      " 14%|█▍        | 4/28 [00:03<00:22,  1.08it/s]"
     ]
    },
    {
     "name": "stdout",
     "output_type": "stream",
     "text": [
      " Shape New Array (1039, 2) (1039, 2)\n",
      "Reprojection Error:  0.9270037940857192\n"
     ]
    },
    {
     "data": {
      "image/png": "[encoded data removed]",
      "text/plain": [
       "<Figure size 432x288 with 1 Axes>"
      ]
     },
     "metadata": {
      "needs_background": "light"
     },
     "output_type": "display_data"
    },
    {
     "name": "stderr",
     "output_type": "stream",
     "text": [
      " 18%|█▊        | 5/28 [00:04<00:21,  1.06it/s]"
     ]
    },
    {
     "name": "stdout",
     "output_type": "stream",
     "text": [
      " Shape New Array (563, 2) (563, 2)\n",
      "Reprojection Error:  1.9407768580982538\n"
     ]
    },
    {
     "data": {
      "image/png": "[encoded data removed]",
      "text/plain": [
       "<Figure size 432x288 with 1 Axes>"
      ]
     },
     "metadata": {
      "needs_background": "light"
     },
     "output_type": "display_data"
    },
    {
     "name": "stderr",
     "output_type": "stream",
     "text": [
      " 21%|██▏       | 6/28 [00:05<00:20,  1.07it/s]"
     ]
    },
    {
     "name": "stdout",
     "output_type": "stream",
     "text": [
      " Shape New Array (1207, 2) (1207, 2)\n",
      "Reprojection Error:  1.065391029027667\n"
     ]
    },
    {
     "data": {
      "image/png": "[encoded data removed]",
      "text/plain": [
       "<Figure size 432x288 with 1 Axes>"
      ]
     },
     "metadata": {
      "needs_background": "light"
     },
     "output_type": "display_data"
    },
    {
     "name": "stderr",
     "output_type": "stream",
     "text": [
      " 25%|██▌       | 7/28 [00:06<00:19,  1.09it/s]"
     ]
    },
    {
     "name": "stdout",
     "output_type": "stream",
     "text": [
      " Shape New Array (1194, 2) (1194, 2)\n",
      "Reprojection Error:  3.919670395083307\n"
     ]
    },
    {
     "data": {
      "image/png": "[encoded data removed]",
      "text/plain": [
       "<Figure size 432x288 with 1 Axes>"
      ]
     },
     "metadata": {
      "needs_background": "light"
     },
     "output_type": "display_data"
    },
    {
     "name": "stderr",
     "output_type": "stream",
     "text": [
      " 29%|██▊       | 8/28 [00:07<00:18,  1.08it/s]"
     ]
    },
    {
     "name": "stdout",
     "output_type": "stream",
     "text": [
      " Shape New Array (772, 2) (772, 2)\n",
      "Reprojection Error:  1.065226454347029\n"
     ]
    },
    {
     "data": {
      "image/png": "[encoded data removed]",
      "text/plain": [
       "<Figure size 432x288 with 1 Axes>"
      ]
     },
     "metadata": {
      "needs_background": "light"
     },
     "output_type": "display_data"
    },
    {
     "name": "stderr",
     "output_type": "stream",
     "text": [
      " 32%|███▏      | 9/28 [00:08<00:17,  1.07it/s]"
     ]
    },
    {
     "name": "stdout",
     "output_type": "stream",
     "text": [
      " Shape New Array (725, 2) (725, 2)\n",
      "Reprojection Error:  2.310624600901623\n"
     ]
    },
    {
     "data": {
      "image/png": "[encoded data removed]",
      "text/plain": [
       "<Figure size 432x288 with 1 Axes>"
      ]
     },
     "metadata": {
      "needs_background": "light"
     },
     "output_type": "display_data"
    },
    {
     "name": "stderr",
     "output_type": "stream",
     "text": [
      " 36%|███▌      | 10/28 [00:09<00:16,  1.09it/s]"
     ]
    },
    {
     "name": "stdout",
     "output_type": "stream",
     "text": [
      " Shape New Array (943, 2) (943, 2)\n",
      "Reprojection Error:  1.4085117715148592\n"
     ]
    },
    {
     "data": {
      "image/png": "[encoded data removed]",
      "text/plain": [
       "<Figure size 432x288 with 1 Axes>"
      ]
     },
     "metadata": {
      "needs_background": "light"
     },
     "output_type": "display_data"
    },
    {
     "name": "stderr",
     "output_type": "stream",
     "text": [
      " 39%|███▉      | 11/28 [00:10<00:15,  1.11it/s]"
     ]
    },
    {
     "name": "stdout",
     "output_type": "stream",
     "text": [
      " Shape New Array (687, 2) (687, 2)\n",
      "Reprojection Error:  3.398731453345431\n"
     ]
    },
    {
     "data": {
      "image/png": "[encoded data removed]",
      "text/plain": [
       "<Figure size 432x288 with 1 Axes>"
      ]
     },
     "metadata": {
      "needs_background": "light"
     },
     "output_type": "display_data"
    },
    {
     "name": "stderr",
     "output_type": "stream",
     "text": [
      " 43%|████▎     | 12/28 [00:11<00:14,  1.09it/s]"
     ]
    },
    {
     "name": "stdout",
     "output_type": "stream",
     "text": [
      " Shape New Array (701, 2) (701, 2)\n",
      "Reprojection Error:  5.0627694031200745\n"
     ]
    },
    {
     "data": {
      "image/png": "[encoded data removed]",
      "text/plain": [
       "<Figure size 432x288 with 1 Axes>"
      ]
     },
     "metadata": {
      "needs_background": "light"
     },
     "output_type": "display_data"
    },
    {
     "name": "stderr",
     "output_type": "stream",
     "text": [
      " 46%|████▋     | 13/28 [00:11<00:13,  1.13it/s]"
     ]
    },
    {
     "name": "stdout",
     "output_type": "stream",
     "text": [
      " Shape New Array (552, 2) (552, 2)\n",
      "Reprojection Error:  3.134348356791925\n"
     ]
    },
    {
     "data": {
      "image/png": "[encoded data removed]",
      "text/plain": [
       "<Figure size 432x288 with 1 Axes>"
      ]
     },
     "metadata": {
      "needs_background": "light"
     },
     "output_type": "display_data"
    },
    {
     "name": "stderr",
     "output_type": "stream",
     "text": [
      " 50%|█████     | 14/28 [00:12<00:12,  1.15it/s]"
     ]
    },
    {
     "name": "stdout",
     "output_type": "stream",
     "text": [
      " Shape New Array (647, 2) (647, 2)\n",
      "Reprojection Error:  5.5063456755150355\n"
     ]
    },
    {
     "data": {
      "image/png": "[encoded data removed]",
      "text/plain": [
       "<Figure size 432x288 with 1 Axes>"
      ]
     },
     "metadata": {
      "needs_background": "light"
     },
     "output_type": "display_data"
    },
    {
     "name": "stderr",
     "output_type": "stream",
     "text": [
      " 54%|█████▎    | 15/28 [00:13<00:10,  1.19it/s]"
     ]
    },
    {
     "name": "stdout",
     "output_type": "stream",
     "text": [
      " Shape New Array (310, 2) (310, 2)\n",
      "Reprojection Error:  8.785438436728828\n"
     ]
    },
    {
     "data": {
      "image/png": "[encoded data removed]",
      "text/plain": [
       "<Figure size 432x288 with 1 Axes>"
      ]
     },
     "metadata": {
      "needs_background": "light"
     },
     "output_type": "display_data"
    },
    {
     "name": "stderr",
     "output_type": "stream",
     "text": [
      " 57%|█████▋    | 16/28 [00:14<00:09,  1.20it/s]"
     ]
    },
    {
     "name": "stdout",
     "output_type": "stream",
     "text": [
      " Shape New Array (188, 2) (188, 2)\n",
      "Reprojection Error:  3.4816884321187076\n"
     ]
    },
    {
     "data": {
      "image/png": "[encoded data removed]",
      "text/plain": [
       "<Figure size 432x288 with 1 Axes>"
      ]
     },
     "metadata": {
      "needs_background": "light"
     },
     "output_type": "display_data"
    },
    {
     "name": "stderr",
     "output_type": "stream",
     "text": [
      " 61%|██████    | 17/28 [00:15<00:08,  1.23it/s]"
     ]
    },
    {
     "name": "stdout",
     "output_type": "stream",
     "text": [
      " Shape New Array (358, 2) (358, 2)\n",
      "Reprojection Error:  1.5838459562913894\n"
     ]
    },
    {
     "data": {
      "image/png": "[encoded data removed]",
      "text/plain": [
       "<Figure size 432x288 with 1 Axes>"
      ]
     },
     "metadata": {
      "needs_background": "light"
     },
     "output_type": "display_data"
    },
    {
     "name": "stderr",
     "output_type": "stream",
     "text": [
      " 64%|██████▍   | 18/28 [00:15<00:08,  1.23it/s]"
     ]
    },
    {
     "name": "stdout",
     "output_type": "stream",
     "text": [
      " Shape New Array (502, 2) (502, 2)\n",
      "Reprojection Error:  18.841047152817332\n"
     ]
    },
    {
     "data": {
      "image/png": "[encoded data removed]",
      "text/plain": [
       "<Figure size 432x288 with 1 Axes>"
      ]
     },
     "metadata": {
      "needs_background": "light"
     },
     "output_type": "display_data"
    },
    {
     "name": "stderr",
     "output_type": "stream",
     "text": [
      " 68%|██████▊   | 19/28 [00:16<00:07,  1.22it/s]"
     ]
    },
    {
     "name": "stdout",
     "output_type": "stream",
     "text": [
      " Shape New Array (728, 2) (728, 2)\n",
      "Reprojection Error:  104.0593866176987\n"
     ]
    },
    {
     "data": {
      "image/png": "[encoded data removed]",
      "text/plain": [
       "<Figure size 432x288 with 1 Axes>"
      ]
     },
     "metadata": {
      "needs_background": "light"
     },
     "output_type": "display_data"
    },
    {
     "name": "stderr",
     "output_type": "stream",
     "text": [
      " 71%|███████▏  | 20/28 [00:17<00:06,  1.21it/s]"
     ]
    },
    {
     "name": "stdout",
     "output_type": "stream",
     "text": [
      " Shape New Array (572, 2) (572, 2)\n",
      "Reprojection Error:  111.02602721085293\n"
     ]
    },
    {
     "data": {
      "image/png": "[encoded data removed]",
      "text/plain": [
       "<Figure size 432x288 with 1 Axes>"
      ]
     },
     "metadata": {
      "needs_background": "light"
     },
     "output_type": "display_data"
    },
    {
     "name": "stderr",
     "output_type": "stream",
     "text": [
      " 75%|███████▌  | 21/28 [00:18<00:05,  1.23it/s]"
     ]
    },
    {
     "name": "stdout",
     "output_type": "stream",
     "text": [
      " Shape New Array (304, 2) (304, 2)\n",
      "Reprojection Error:  2.129634421712359\n"
     ]
    },
    {
     "data": {
      "image/png": "[encoded data removed]",
      "text/plain": [
       "<Figure size 432x288 with 1 Axes>"
      ]
     },
     "metadata": {
      "needs_background": "light"
     },
     "output_type": "display_data"
    },
    {
     "name": "stderr",
     "output_type": "stream",
     "text": [
      " 79%|███████▊  | 22/28 [00:19<00:04,  1.22it/s]"
     ]
    },
    {
     "name": "stdout",
     "output_type": "stream",
     "text": [
      " Shape New Array (620, 2) (620, 2)\n",
      "Reprojection Error:  1.7944972885367543\n"
     ]
    },
    {
     "data": {
      "image/png": "[encoded data removed]",
      "text/plain": [
       "<Figure size 432x288 with 1 Axes>"
      ]
     },
     "metadata": {
      "needs_background": "light"
     },
     "output_type": "display_data"
    },
    {
     "name": "stderr",
     "output_type": "stream",
     "text": [
      " 82%|████████▏ | 23/28 [00:20<00:04,  1.20it/s]"
     ]
    },
    {
     "name": "stdout",
     "output_type": "stream",
     "text": [
      " Shape New Array (606, 2) (606, 2)\n",
      "Reprojection Error:  37.03931535889889\n"
     ]
    },
    {
     "data": {
      "image/png": "[encoded data removed]",
      "text/plain": [
       "<Figure size 432x288 with 1 Axes>"
      ]
     },
     "metadata": {
      "needs_background": "light"
     },
     "output_type": "display_data"
    },
    {
     "name": "stderr",
     "output_type": "stream",
     "text": [
      " 86%|████████▌ | 24/28 [00:20<00:03,  1.22it/s]"
     ]
    },
    {
     "name": "stdout",
     "output_type": "stream",
     "text": [
      " Shape New Array (667, 2) (667, 2)\n",
      "Reprojection Error:  107.44104364332586\n"
     ]
    },
    {
     "data": {
      "image/png": "[encoded data removed]",
      "text/plain": [
       "<Figure size 432x288 with 1 Axes>"
      ]
     },
     "metadata": {
      "needs_background": "light"
     },
     "output_type": "display_data"
    },
    {
     "name": "stderr",
     "output_type": "stream",
     "text": [
      " 89%|████████▉ | 25/28 [00:21<00:02,  1.22it/s]"
     ]
    },
    {
     "name": "stdout",
     "output_type": "stream",
     "text": [
      " Shape New Array (693, 2) (693, 2)\n",
      "Reprojection Error:  0.5139078080868782\n"
     ]
    },
    {
     "data": {
      "image/png": "[encoded data removed]",
      "text/plain": [
       "<Figure size 432x288 with 1 Axes>"
      ]
     },
     "metadata": {
      "needs_background": "light"
     },
     "output_type": "display_data"
    },
    {
     "name": "stderr",
     "output_type": "stream",
     "text": [
      " 93%|█████████▎| 26/28 [00:22<00:01,  1.23it/s]"
     ]
    },
    {
     "name": "stdout",
     "output_type": "stream",
     "text": [
      " Shape New Array (636, 2) (636, 2)\n",
      "Reprojection Error:  0.8692902450162762\n"
     ]
    },
    {
     "data": {
      "image/png": "[encoded data removed]",
      "text/plain": [
       "<Figure size 432x288 with 1 Axes>"
      ]
     },
     "metadata": {
      "needs_background": "light"
     },
     "output_type": "display_data"
    },
    {
     "name": "stderr",
     "output_type": "stream",
     "text": [
      " 96%|█████████▋| 27/28 [00:23<00:00,  1.24it/s]"
     ]
    },
    {
     "name": "stdout",
     "output_type": "stream",
     "text": [
      " Shape New Array (252, 2) (252, 2)\n",
      "Reprojection Error:  2.548209137828322\n"
     ]
    },
    {
     "data": {
      "image/png": "[encoded data removed]",
      "text/plain": [
       "<Figure size 432x288 with 1 Axes>"
      ]
     },
     "metadata": {
      "needs_background": "light"
     },
     "output_type": "display_data"
    },
    {
     "name": "stderr",
     "output_type": "stream",
     "text": [
      "100%|██████████| 28/28 [00:24<00:00,  1.16it/s]\n"
     ]
    }
   ],
   "source": [
    "threshold = 0.5\n",
    "for i in tqdm(range(total_images)):\n",
    "    image_2 = img_obj.downscale_image(cv2.imread(img_obj.image_list[i + 2]))\n",
    "    features_cur, features_2 = lib.find_keypoints(image_1, image_2)\n",
    "\n",
    "    if i != 0:\n",
    "        feature_0, feature_1, points_3d = lib.triangulation(pose_0, pose_1, feature_0, feature_1)\n",
    "        feature_1 = feature_1.T\n",
    "        points_3d = cv2.convertPointsFromHomogeneous(points_3d.T)\n",
    "        points_3d = points_3d[:, 0, :]\n",
    "    \n",
    "\n",
    "    cm_points_0, cm_points_1, cm_mask_0, cm_mask_1 = lib.common_points(feature_1, features_cur, features_2)\n",
    "    cm_points_2 = features_2[cm_points_1]\n",
    "    cm_points_cur = features_cur[cm_points_1]\n",
    "\n",
    "    rot_matrix, tran_matrix, cm_points_2, points_3d, cm_points_cur = lib.PnP(points_3d[cm_points_0], cm_points_2, img_obj.K, np.zeros((5, 1), dtype=np.float32), cm_points_cur, initial = 0)\n",
    "    transform_matrix_1 = np.hstack((rot_matrix, tran_matrix))\n",
    "    pose_2 = np.matmul(img_obj.K, transform_matrix_1)\n",
    "\n",
    "    error, points_3d = lib.reprojection_error(points_3d, cm_points_2, transform_matrix_1, img_obj.K, homogenity = 0)\n",
    "\n",
    "    \n",
    "    cm_mask_0, cm_mask_1, points_3d = lib.triangulation(pose_1, pose_2, cm_mask_0, cm_mask_1)\n",
    "    error, points_3d = lib.reprojection_error(points_3d, cm_mask_1, transform_matrix_1, img_obj.K, homogenity = 1)\n",
    "    print(\"Reprojection Error: \", error)\n",
    "    pose_array = np.hstack((pose_array, pose_2.ravel()))\n",
    "    # takes a long time to run\n",
    "\n",
    "    if enable_bundle_adjustment:\n",
    "        points_3d, cm_mask_1, transform_matrix_1 = lib.bundle_adjustment(points_3d, cm_mask_1, transform_matrix_1, img_obj.K, threshold)\n",
    "        pose_2 = np.matmul(img_obj.K, transform_matrix_1)\n",
    "        error, points_3d = lib.reprojection_error(points_3d, cm_mask_1, transform_matrix_1, img_obj.K, homogenity = 0)\n",
    "        print(\"Bundle Adjusted error: \",error)\n",
    "        total_points = np.vstack((total_points, points_3d))\n",
    "        points_left = np.array(cm_mask_1, dtype=np.int32)\n",
    "        color_vector = np.array([image_2[l[1], l[0]] for l in points_left])\n",
    "        total_colors = np.vstack((total_colors, color_vector))\n",
    "    else:\n",
    "        total_points = np.vstack((total_points, points_3d[:, 0, :]))\n",
    "        points_left = np.array(cm_mask_1, dtype=np.int32)\n",
    "        color_vector = np.array([image_2[l[1], l[0]] for l in points_left.T])\n",
    "        total_colors = np.vstack((total_colors, color_vector)) \n",
    "    \n",
    "\n",
    "\n",
    "\n",
    "    transform_matrix_0 = np.copy(transform_matrix_1)\n",
    "    pose_0 = np.copy(pose_1)\n",
    "    plt.scatter(i, error)\n",
    "    plt.pause(0.05)\n",
    "\n",
    "    image_0 = np.copy(image_1)\n",
    "    image_1 = np.copy(image_2)\n",
    "    feature_0 = np.copy(features_cur)\n",
    "    feature_1 = np.copy(features_2)\n",
    "    pose_1 = np.copy(pose_2)\n",
    "    cv2.imshow(img_obj.image_list[0].split('\\\\')[-2], image_2)\n",
    "    if cv2.waitKey(1) & 0xff == ord('q'):\n",
    "        break\n",
    "cv2.destroyAllWindows()\n"
   ]
  },
  {
   "cell_type": "markdown",
   "metadata": {},
   "source": [
    "Saving Results"
   ]
  },
  {
   "cell_type": "code",
   "execution_count": 17,
   "metadata": {},
   "outputs": [
    {
     "name": "stdout",
     "output_type": "stream",
     "text": [
      "Printing to .ply file\n",
      "(19869, 3) (19869, 3)\n",
      "c:\\Users\\01150138\\Desktop\\informatyka mgr\\SWIZ\\projekt\\SWIZ\n",
      "(19869, 3) (19869, 3)\n"
     ]
    },
    {
     "ename": "NameError",
     "evalue": "name 'img_obj' is not defined",
     "output_type": "error",
     "traceback": [
      "\u001b[1;31m---------------------------------------------------------------------------\u001b[0m",
      "\u001b[1;31mNameError\u001b[0m                                 Traceback (most recent call last)",
      "\u001b[1;32m<ipython-input-17-3b8422ee10ac>\u001b[0m in \u001b[0;36m<module>\u001b[1;34m\u001b[0m\n\u001b[0;32m      2\u001b[0m \u001b[0mprint\u001b[0m\u001b[1;33m(\u001b[0m\u001b[0mtotal_points\u001b[0m\u001b[1;33m.\u001b[0m\u001b[0mshape\u001b[0m\u001b[1;33m,\u001b[0m \u001b[0mtotal_colors\u001b[0m\u001b[1;33m.\u001b[0m\u001b[0mshape\u001b[0m\u001b[1;33m)\u001b[0m\u001b[1;33m\u001b[0m\u001b[1;33m\u001b[0m\u001b[0m\n\u001b[0;32m      3\u001b[0m \u001b[0mprint\u001b[0m\u001b[1;33m(\u001b[0m\u001b[0mimg_obj\u001b[0m\u001b[1;33m.\u001b[0m\u001b[0mpath\u001b[0m\u001b[1;33m)\u001b[0m\u001b[1;33m\u001b[0m\u001b[1;33m\u001b[0m\u001b[0m\n\u001b[1;32m----> 4\u001b[1;33m \u001b[0mlib\u001b[0m\u001b[1;33m.\u001b[0m\u001b[0mto_ply\u001b[0m\u001b[1;33m(\u001b[0m\u001b[0mimg_obj\u001b[0m\u001b[1;33m.\u001b[0m\u001b[0mpath\u001b[0m\u001b[1;33m,\u001b[0m \u001b[0mtotal_points\u001b[0m\u001b[1;33m,\u001b[0m \u001b[0mtotal_colors\u001b[0m\u001b[1;33m)\u001b[0m\u001b[1;33m\u001b[0m\u001b[1;33m\u001b[0m\u001b[0m\n\u001b[0m\u001b[0;32m      5\u001b[0m \u001b[0mprint\u001b[0m\u001b[1;33m(\u001b[0m\u001b[1;34m\"Completed Exiting ...\"\u001b[0m\u001b[1;33m)\u001b[0m\u001b[1;33m\u001b[0m\u001b[1;33m\u001b[0m\u001b[0m\n\u001b[0;32m      6\u001b[0m \u001b[0mnp\u001b[0m\u001b[1;33m.\u001b[0m\u001b[0msavetxt\u001b[0m\u001b[1;33m(\u001b[0m\u001b[0mimg_obj\u001b[0m\u001b[1;33m.\u001b[0m\u001b[0mpath\u001b[0m \u001b[1;33m+\u001b[0m \u001b[1;34m'\\\\res\\\\'\u001b[0m \u001b[1;33m+\u001b[0m \u001b[0mimg_obj\u001b[0m\u001b[1;33m.\u001b[0m\u001b[0mimage_list\u001b[0m\u001b[1;33m[\u001b[0m\u001b[1;36m0\u001b[0m\u001b[1;33m]\u001b[0m\u001b[1;33m.\u001b[0m\u001b[0msplit\u001b[0m\u001b[1;33m(\u001b[0m\u001b[1;34m'\\\\'\u001b[0m\u001b[1;33m)\u001b[0m\u001b[1;33m[\u001b[0m\u001b[1;33m-\u001b[0m\u001b[1;36m2\u001b[0m\u001b[1;33m]\u001b[0m\u001b[1;33m+\u001b[0m\u001b[1;34m'_pose_array.csv'\u001b[0m\u001b[1;33m,\u001b[0m \u001b[0mpose_array\u001b[0m\u001b[1;33m,\u001b[0m \u001b[0mdelimiter\u001b[0m \u001b[1;33m=\u001b[0m \u001b[1;34m'\\n'\u001b[0m\u001b[1;33m)\u001b[0m\u001b[1;33m\u001b[0m\u001b[1;33m\u001b[0m\u001b[0m\n",
      "\u001b[1;32mc:\\Users\\01150138\\Desktop\\informatyka mgr\\SWIZ\\projekt\\SWIZ\\lib.py\u001b[0m in \u001b[0;36mto_ply\u001b[1;34m(path, point_cloud, colors)\u001b[0m\n\u001b[0;32m    121\u001b[0m             \u001b[0mend_header\u001b[0m\u001b[1;33m\u001b[0m\u001b[1;33m\u001b[0m\u001b[0m\n\u001b[0;32m    122\u001b[0m             '''\n\u001b[1;32m--> 123\u001b[1;33m         \u001b[1;32mwith\u001b[0m \u001b[0mopen\u001b[0m\u001b[1;33m(\u001b[0m\u001b[0mpath\u001b[0m \u001b[1;33m+\u001b[0m \u001b[1;34m'\\\\res\\\\'\u001b[0m \u001b[1;33m+\u001b[0m \u001b[0mimg_obj\u001b[0m\u001b[1;33m.\u001b[0m\u001b[0mimage_list\u001b[0m\u001b[1;33m[\u001b[0m\u001b[1;36m0\u001b[0m\u001b[1;33m]\u001b[0m\u001b[1;33m.\u001b[0m\u001b[0msplit\u001b[0m\u001b[1;33m(\u001b[0m\u001b[1;34m'\\\\'\u001b[0m\u001b[1;33m)\u001b[0m\u001b[1;33m[\u001b[0m\u001b[1;33m-\u001b[0m\u001b[1;36m2\u001b[0m\u001b[1;33m]\u001b[0m \u001b[1;33m+\u001b[0m \u001b[1;34m'.ply'\u001b[0m\u001b[1;33m,\u001b[0m \u001b[1;34m'w'\u001b[0m\u001b[1;33m)\u001b[0m \u001b[1;32mas\u001b[0m \u001b[0mf\u001b[0m\u001b[1;33m:\u001b[0m\u001b[1;33m\u001b[0m\u001b[1;33m\u001b[0m\u001b[0m\n\u001b[0m\u001b[0;32m    124\u001b[0m             \u001b[0mf\u001b[0m\u001b[1;33m.\u001b[0m\u001b[0mwrite\u001b[0m\u001b[1;33m(\u001b[0m\u001b[0mply_header\u001b[0m \u001b[1;33m%\u001b[0m \u001b[0mdict\u001b[0m\u001b[1;33m(\u001b[0m\u001b[0mvert_num\u001b[0m\u001b[1;33m=\u001b[0m\u001b[0mlen\u001b[0m\u001b[1;33m(\u001b[0m\u001b[0mverts\u001b[0m\u001b[1;33m)\u001b[0m\u001b[1;33m)\u001b[0m\u001b[1;33m)\u001b[0m\u001b[1;33m\u001b[0m\u001b[1;33m\u001b[0m\u001b[0m\n\u001b[0;32m    125\u001b[0m             \u001b[0mnp\u001b[0m\u001b[1;33m.\u001b[0m\u001b[0msavetxt\u001b[0m\u001b[1;33m(\u001b[0m\u001b[0mf\u001b[0m\u001b[1;33m,\u001b[0m \u001b[0mverts\u001b[0m\u001b[1;33m,\u001b[0m \u001b[1;34m'%f %f %f %d %d %d'\u001b[0m\u001b[1;33m)\u001b[0m\u001b[1;33m\u001b[0m\u001b[1;33m\u001b[0m\u001b[0m\n",
      "\u001b[1;31mNameError\u001b[0m: name 'img_obj' is not defined"
     ]
    }
   ],
   "source": [
    "print(\"Printing to .ply file\")\n",
    "print(total_points.shape, total_colors.shape)\n",
    "\n",
    "img_obj.to_ply(total_points, total_colors)\n",
    "print(\"Completed Exiting ...\")\n",
    "np.savetxt(img_obj.path + '\\\\res\\\\' + img_obj.image_list[0].split('\\\\')[-2]+'_pose_array.csv', pose_array, delimiter = '\\n')"
   ]
  }
 ],
 "metadata": {
  "kernelspec": {
   "display_name": "pobr",
   "language": "python",
   "name": "python3"
  },
  "language_info": {
   "codemirror_mode": {
    "name": "ipython",
    "version": 3
   },
   "file_extension": ".py",
   "mimetype": "text/x-python",
   "name": "python",
   "nbconvert_exporter": "python",
   "pygments_lexer": "ipython3",
   "version": "3.6.13"
  }
 },
 "nbformat": 4,
 "nbformat_minor": 2
}
