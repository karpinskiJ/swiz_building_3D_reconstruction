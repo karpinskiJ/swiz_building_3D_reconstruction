{
 "cells": [
  {
   "cell_type": "code",
   "execution_count": 1,
   "metadata": {},
   "outputs": [],
   "source": [
    "import cv2\n",
    "import numpy as np\n",
    "import os\n",
    "from scipy.optimize import least_squares\n",
    "# from tomlkit import boolean\n",
    "from tqdm import tqdm\n",
    "import matplotlib.pyplot as plt\n",
    "from mpl_toolkits.mplot3d import Axes3D\n",
    "from data import Image_loader\n",
    "import lib"
   ]
  },
  {
   "cell_type": "markdown",
   "metadata": {},
   "source": [
    "Load Images"
   ]
  },
  {
   "cell_type": "code",
   "execution_count": 2,
   "metadata": {},
   "outputs": [],
   "source": [
    "img_obj = Image_loader(\"Datasets\\\\castle-P30\")\n",
    "enable_bundle_adjustment = False"
   ]
  },
  {
   "cell_type": "markdown",
   "metadata": {},
   "source": [
    "Finding keypoints from 2 images"
   ]
  },
  {
   "cell_type": "code",
   "execution_count": 3,
   "metadata": {},
   "outputs": [],
   "source": [
    "cv2.namedWindow('image', cv2.WINDOW_NORMAL)\n",
    "pose_array = img_obj.K.ravel()\n",
    "transform_matrix_0 = np.array([[1, 0, 0, 0], [0, 1, 0, 0], [0, 0, 1, 0]])\n",
    "transform_matrix_1 = np.empty((3, 4))\n",
    "\n",
    "pose_0 = np.matmul(img_obj.K, transform_matrix_0)\n",
    "pose_1 = np.empty((3, 4)) \n",
    "total_points = np.zeros((1, 3))\n",
    "total_colors = np.zeros((1, 3))\n",
    "\n",
    "image_0 = img_obj.downscale_image(cv2.imread(img_obj.image_list[0]))\n",
    "image_1 = img_obj.downscale_image(cv2.imread(img_obj.image_list[1]))\n",
    "\n",
    "feature_0, feature_1 = lib.find_keypoints(image_0, image_1)"
   ]
  },
  {
   "cell_type": "markdown",
   "metadata": {},
   "source": [
    "Calculating Essential and Rotation Matrixes"
   ]
  },
  {
   "cell_type": "code",
   "execution_count": 4,
   "metadata": {},
   "outputs": [],
   "source": [
    "essential_matrix, em_mask = cv2.findEssentialMat(feature_0, feature_1, img_obj.K, method=cv2.RANSAC, prob=0.999, threshold=0.4, mask=None)\n",
    "feature_0 = feature_0[em_mask.ravel() == 1]\n",
    "feature_1 = feature_1[em_mask.ravel() == 1]\n",
    "\n",
    "\n",
    "_, rot_matrix, tran_matrix, em_mask = cv2.recoverPose(essential_matrix, feature_0, feature_1, img_obj.K)\n",
    "feature_0 = feature_0[em_mask.ravel() > 0]\n",
    "feature_1 = feature_1[em_mask.ravel() > 0]\n",
    "transform_matrix_1[:3, :3] = np.matmul(rot_matrix, transform_matrix_0[:3, :3])\n",
    "transform_matrix_1[:3, 3] = transform_matrix_0[:3, 3] + np.matmul(transform_matrix_0[:3, :3], tran_matrix.ravel())"
   ]
  },
  {
   "cell_type": "markdown",
   "metadata": {},
   "source": [
    "Triangulation"
   ]
  },
  {
   "cell_type": "code",
   "execution_count": 5,
   "metadata": {},
   "outputs": [],
   "source": [
    "pose_1 = np.matmul(img_obj.K, transform_matrix_1)\n",
    "\n",
    "feature_0, feature_1, points_3d = lib.triangulation(pose_0, pose_1, feature_0, feature_1)"
   ]
  },
  {
   "cell_type": "markdown",
   "metadata": {},
   "source": [
    "Calculating reprojection error"
   ]
  },
  {
   "cell_type": "code",
   "execution_count": 6,
   "metadata": {},
   "outputs": [
    {
     "name": "stdout",
     "output_type": "stream",
     "text": [
      "REPROJECTION ERROR:  0.006572311839443069\n"
     ]
    }
   ],
   "source": [
    "error, points_3d = lib.reprojection_error(points_3d, feature_1, transform_matrix_1, img_obj.K, is_homogeneous = True)\n",
    "print(\"REPROJECTION ERROR: \", error)\n"
   ]
  },
  {
   "cell_type": "markdown",
   "metadata": {},
   "source": [
    "PnP"
   ]
  },
  {
   "cell_type": "code",
   "execution_count": 7,
   "metadata": {},
   "outputs": [
    {
     "ename": "TypeError",
     "evalue": "PnP() got an unexpected keyword argument 'initial'",
     "output_type": "error",
     "traceback": [
      "\u001b[1;31m---------------------------------------------------------------------------\u001b[0m",
      "\u001b[1;31mTypeError\u001b[0m                                 Traceback (most recent call last)",
      "\u001b[1;32m<ipython-input-7-3361fc810bd0>\u001b[0m in \u001b[0;36m<module>\u001b[1;34m\u001b[0m\n\u001b[1;32m----> 1\u001b[1;33m \u001b[0m_\u001b[0m\u001b[1;33m,\u001b[0m \u001b[0m_\u001b[0m\u001b[1;33m,\u001b[0m \u001b[0mfeature_1\u001b[0m\u001b[1;33m,\u001b[0m \u001b[0mpoints_3d\u001b[0m\u001b[1;33m,\u001b[0m \u001b[0m_\u001b[0m \u001b[1;33m=\u001b[0m \u001b[0mlib\u001b[0m\u001b[1;33m.\u001b[0m\u001b[0mPnP\u001b[0m\u001b[1;33m(\u001b[0m\u001b[0mpoints_3d\u001b[0m\u001b[1;33m,\u001b[0m \u001b[0mfeature_1\u001b[0m\u001b[1;33m,\u001b[0m \u001b[0mimg_obj\u001b[0m\u001b[1;33m.\u001b[0m\u001b[0mK\u001b[0m\u001b[1;33m,\u001b[0m \u001b[0mnp\u001b[0m\u001b[1;33m.\u001b[0m\u001b[0mzeros\u001b[0m\u001b[1;33m(\u001b[0m\u001b[1;33m(\u001b[0m\u001b[1;36m5\u001b[0m\u001b[1;33m,\u001b[0m \u001b[1;36m1\u001b[0m\u001b[1;33m)\u001b[0m\u001b[1;33m,\u001b[0m \u001b[0mdtype\u001b[0m\u001b[1;33m=\u001b[0m\u001b[0mnp\u001b[0m\u001b[1;33m.\u001b[0m\u001b[0mfloat32\u001b[0m\u001b[1;33m)\u001b[0m\u001b[1;33m,\u001b[0m \u001b[0mfeature_0\u001b[0m\u001b[1;33m,\u001b[0m \u001b[0minitial\u001b[0m\u001b[1;33m=\u001b[0m\u001b[1;36m1\u001b[0m\u001b[1;33m)\u001b[0m\u001b[1;33m\u001b[0m\u001b[1;33m\u001b[0m\u001b[0m\n\u001b[0m",
      "\u001b[1;31mTypeError\u001b[0m: PnP() got an unexpected keyword argument 'initial'"
     ]
    },
    {
     "ename": "",
     "evalue": "",
     "output_type": "error",
     "traceback": [
      "\u001b[1;31mThe Kernel crashed while executing code in the current cell or a previous cell. \n",
      "\u001b[1;31mPlease review the code in the cell(s) to identify a possible cause of the failure. \n",
      "\u001b[1;31mClick <a href='https://aka.ms/vscodeJupyterKernelCrash'>here</a> for more info. \n",
      "\u001b[1;31mView Jupyter <a href='command:jupyter.viewOutput'>log</a> for further details."
     ]
    }
   ],
   "source": [
    "_, _, feature_1, points_3d, _ = lib.PnP(points_3d, feature_1, img_obj.K, np.zeros((5, 1), dtype=np.float32), feature_0, is_initial=True)"
   ]
  },
  {
   "cell_type": "code",
   "execution_count": null,
   "metadata": {},
   "outputs": [],
   "source": [
    "total_images = len(img_obj.image_list) - 2 \n",
    "pose_array = np.hstack((np.hstack((pose_array, pose_0.ravel())), pose_1.ravel()))"
   ]
  },
  {
   "cell_type": "markdown",
   "metadata": {},
   "source": [
    "Looping through images and ca"
   ]
  },
  {
   "cell_type": "code",
   "execution_count": null,
   "metadata": {},
   "outputs": [
    {
     "name": "stderr",
     "output_type": "stream",
     "text": [
      "  4%|▎         | 1/28 [00:00<00:18,  1.45it/s]"
     ]
    },
    {
     "name": "stdout",
     "output_type": "stream",
     "text": [
      "Reprojection Error:  1.250388848252236\n"
     ]
    },
    {
     "name": "stderr",
     "output_type": "stream",
     "text": [
      "  7%|▋         | 2/28 [00:01<00:19,  1.35it/s]"
     ]
    },
    {
     "name": "stdout",
     "output_type": "stream",
     "text": [
      "Reprojection Error:  2.9059230243830276\n"
     ]
    },
    {
     "name": "stderr",
     "output_type": "stream",
     "text": [
      " 11%|█         | 3/28 [00:02<00:19,  1.30it/s]"
     ]
    },
    {
     "name": "stdout",
     "output_type": "stream",
     "text": [
      "Reprojection Error:  0.29458859234723156\n"
     ]
    },
    {
     "name": "stderr",
     "output_type": "stream",
     "text": [
      " 14%|█▍        | 4/28 [00:03<00:18,  1.28it/s]"
     ]
    },
    {
     "name": "stdout",
     "output_type": "stream",
     "text": [
      "Reprojection Error:  1.1359981150773097\n"
     ]
    },
    {
     "name": "stderr",
     "output_type": "stream",
     "text": [
      " 18%|█▊        | 5/28 [00:03<00:17,  1.29it/s]"
     ]
    },
    {
     "name": "stdout",
     "output_type": "stream",
     "text": [
      "Reprojection Error:  0.9270037940857192\n"
     ]
    },
    {
     "name": "stderr",
     "output_type": "stream",
     "text": [
      " 21%|██▏       | 6/28 [00:04<00:17,  1.29it/s]"
     ]
    },
    {
     "name": "stdout",
     "output_type": "stream",
     "text": [
      "Reprojection Error:  1.9407768580982538\n"
     ]
    },
    {
     "name": "stderr",
     "output_type": "stream",
     "text": [
      " 25%|██▌       | 7/28 [00:05<00:16,  1.26it/s]"
     ]
    },
    {
     "name": "stdout",
     "output_type": "stream",
     "text": [
      "Reprojection Error:  1.065391029027667\n"
     ]
    },
    {
     "name": "stderr",
     "output_type": "stream",
     "text": [
      " 29%|██▊       | 8/28 [00:06<00:15,  1.26it/s]"
     ]
    },
    {
     "name": "stdout",
     "output_type": "stream",
     "text": [
      "Reprojection Error:  3.919670395083307\n"
     ]
    },
    {
     "name": "stderr",
     "output_type": "stream",
     "text": [
      " 32%|███▏      | 9/28 [00:07<00:14,  1.27it/s]"
     ]
    },
    {
     "name": "stdout",
     "output_type": "stream",
     "text": [
      "Reprojection Error:  1.065226454347029\n"
     ]
    },
    {
     "name": "stderr",
     "output_type": "stream",
     "text": [
      " 36%|███▌      | 10/28 [00:07<00:14,  1.27it/s]"
     ]
    },
    {
     "name": "stdout",
     "output_type": "stream",
     "text": [
      "Reprojection Error:  2.310624600901623\n"
     ]
    },
    {
     "name": "stderr",
     "output_type": "stream",
     "text": [
      " 39%|███▉      | 11/28 [00:08<00:13,  1.27it/s]"
     ]
    },
    {
     "name": "stdout",
     "output_type": "stream",
     "text": [
      "Reprojection Error:  1.4085117715148592\n"
     ]
    },
    {
     "name": "stderr",
     "output_type": "stream",
     "text": [
      " 43%|████▎     | 12/28 [00:09<00:12,  1.29it/s]"
     ]
    },
    {
     "name": "stdout",
     "output_type": "stream",
     "text": [
      "Reprojection Error:  3.398731453345431\n"
     ]
    },
    {
     "name": "stderr",
     "output_type": "stream",
     "text": [
      " 46%|████▋     | 13/28 [00:10<00:11,  1.33it/s]"
     ]
    },
    {
     "name": "stdout",
     "output_type": "stream",
     "text": [
      "Reprojection Error:  5.0627694031200745\n"
     ]
    },
    {
     "name": "stderr",
     "output_type": "stream",
     "text": [
      " 50%|█████     | 14/28 [00:10<00:10,  1.37it/s]"
     ]
    },
    {
     "name": "stdout",
     "output_type": "stream",
     "text": [
      "Reprojection Error:  3.134348356791925\n"
     ]
    },
    {
     "name": "stderr",
     "output_type": "stream",
     "text": [
      " 54%|█████▎    | 15/28 [00:11<00:09,  1.37it/s]"
     ]
    },
    {
     "name": "stdout",
     "output_type": "stream",
     "text": [
      "Reprojection Error:  5.5063456755150355\n"
     ]
    },
    {
     "name": "stderr",
     "output_type": "stream",
     "text": [
      " 57%|█████▋    | 16/28 [00:12<00:08,  1.41it/s]"
     ]
    },
    {
     "name": "stdout",
     "output_type": "stream",
     "text": [
      "Reprojection Error:  8.785438436728828\n"
     ]
    },
    {
     "name": "stderr",
     "output_type": "stream",
     "text": [
      " 61%|██████    | 17/28 [00:12<00:07,  1.43it/s]"
     ]
    },
    {
     "name": "stdout",
     "output_type": "stream",
     "text": [
      "Reprojection Error:  3.4816884321187076\n"
     ]
    },
    {
     "name": "stderr",
     "output_type": "stream",
     "text": [
      " 64%|██████▍   | 18/28 [00:13<00:06,  1.46it/s]"
     ]
    },
    {
     "name": "stdout",
     "output_type": "stream",
     "text": [
      "Reprojection Error:  1.5838459562913894\n"
     ]
    },
    {
     "name": "stderr",
     "output_type": "stream",
     "text": [
      " 68%|██████▊   | 19/28 [00:14<00:06,  1.47it/s]"
     ]
    },
    {
     "name": "stdout",
     "output_type": "stream",
     "text": [
      "Reprojection Error:  18.841047152817332\n"
     ]
    },
    {
     "name": "stderr",
     "output_type": "stream",
     "text": [
      " 71%|███████▏  | 20/28 [00:14<00:05,  1.49it/s]"
     ]
    },
    {
     "name": "stdout",
     "output_type": "stream",
     "text": [
      "Reprojection Error:  104.0593866176987\n"
     ]
    },
    {
     "name": "stderr",
     "output_type": "stream",
     "text": [
      " 75%|███████▌  | 21/28 [00:15<00:04,  1.49it/s]"
     ]
    },
    {
     "name": "stdout",
     "output_type": "stream",
     "text": [
      "Reprojection Error:  111.02602721085293\n"
     ]
    },
    {
     "name": "stderr",
     "output_type": "stream",
     "text": [
      " 79%|███████▊  | 22/28 [00:16<00:04,  1.47it/s]"
     ]
    },
    {
     "name": "stdout",
     "output_type": "stream",
     "text": [
      "Reprojection Error:  2.129634421712359\n"
     ]
    },
    {
     "name": "stderr",
     "output_type": "stream",
     "text": [
      " 82%|████████▏ | 23/28 [00:16<00:03,  1.45it/s]"
     ]
    },
    {
     "name": "stdout",
     "output_type": "stream",
     "text": [
      "Reprojection Error:  1.7944972885367543\n"
     ]
    },
    {
     "name": "stderr",
     "output_type": "stream",
     "text": [
      " 86%|████████▌ | 24/28 [00:17<00:02,  1.44it/s]"
     ]
    },
    {
     "name": "stdout",
     "output_type": "stream",
     "text": [
      "Reprojection Error:  37.03931535889889\n"
     ]
    },
    {
     "name": "stderr",
     "output_type": "stream",
     "text": [
      " 89%|████████▉ | 25/28 [00:18<00:02,  1.45it/s]"
     ]
    },
    {
     "name": "stdout",
     "output_type": "stream",
     "text": [
      "Reprojection Error:  107.44104364332586\n"
     ]
    },
    {
     "name": "stderr",
     "output_type": "stream",
     "text": [
      " 93%|█████████▎| 26/28 [00:18<00:01,  1.46it/s]"
     ]
    },
    {
     "name": "stdout",
     "output_type": "stream",
     "text": [
      "Reprojection Error:  0.5139078080868782\n"
     ]
    },
    {
     "name": "stderr",
     "output_type": "stream",
     "text": [
      " 96%|█████████▋| 27/28 [00:19<00:00,  1.47it/s]"
     ]
    },
    {
     "name": "stdout",
     "output_type": "stream",
     "text": [
      "Reprojection Error:  0.8692902450162762\n"
     ]
    },
    {
     "name": "stderr",
     "output_type": "stream",
     "text": [
      "100%|██████████| 28/28 [00:20<00:00,  1.38it/s]"
     ]
    },
    {
     "name": "stdout",
     "output_type": "stream",
     "text": [
      "Reprojection Error:  2.548209137828322\n"
     ]
    },
    {
     "name": "stderr",
     "output_type": "stream",
     "text": [
      "\n"
     ]
    }
   ],
   "source": [
    "threshold = 0.5\n",
    "for i in tqdm(range(total_images)):\n",
    "    image_2 = img_obj.downscale_image(cv2.imread(img_obj.image_list[i + 2]))\n",
    "    features_cur, features_2 = lib.find_keypoints(image_1, image_2)\n",
    "\n",
    "    if i != 0:\n",
    "        feature_0, feature_1, points_3d = lib.triangulation(pose_0, pose_1, feature_0, feature_1)\n",
    "        feature_1 = feature_1.T\n",
    "        points_3d = cv2.convertPointsFromHomogeneous(points_3d.T)\n",
    "        points_3d = points_3d[:, 0, :]\n",
    "    \n",
    "\n",
    "    cm_points_0, cm_points_1, cm_mask_0, cm_mask_1 = lib.matching_points(feature_1, features_cur, features_2)\n",
    "    cm_points_2 = features_2[cm_points_1]\n",
    "    cm_points_cur = features_cur[cm_points_1]\n",
    "\n",
    "    rot_matrix, tran_matrix, cm_points_2, points_3d, cm_points_cur = lib.PnP(points_3d[cm_points_0], cm_points_2, img_obj.K, np.zeros((5, 1), dtype=np.float32), cm_points_cur, is_initial = False)\n",
    "    transform_matrix_1 = np.hstack((rot_matrix, tran_matrix))\n",
    "    pose_2 = np.matmul(img_obj.K, transform_matrix_1)\n",
    "\n",
    "    error, points_3d = lib.reprojection_error(points_3d, cm_points_2, transform_matrix_1, img_obj.K, is_homogeneous = False)\n",
    "\n",
    "    \n",
    "    cm_mask_0, cm_mask_1, points_3d = lib.triangulation(pose_1, pose_2, cm_mask_0, cm_mask_1)\n",
    "    error, points_3d = lib.reprojection_error(points_3d, cm_mask_1, transform_matrix_1, img_obj.K, is_homogeneous = True)\n",
    "    print(\"Reprojection Error: \", error)\n",
    "    pose_array = np.hstack((pose_array, pose_2.ravel()))\n",
    "\n",
    "    if enable_bundle_adjustment:\n",
    "        points_3d, cm_mask_1, transform_matrix_1 = lib.bundle_adjustment(points_3d, cm_mask_1, transform_matrix_1, img_obj.K, threshold)\n",
    "        pose_2 = np.matmul(img_obj.K, transform_matrix_1)\n",
    "        error, points_3d = lib.reprojection_error(points_3d, cm_mask_1, transform_matrix_1, img_obj.K, is_homogeneous = False)\n",
    "        print(\"Bundle Adjusted error: \",error)\n",
    "        total_points = np.vstack((total_points, points_3d))\n",
    "        points_left = np.array(cm_mask_1, dtype=np.int32)\n",
    "        color_vector = np.array([image_2[l[1], l[0]] for l in points_left])\n",
    "        total_colors = np.vstack((total_colors, color_vector))\n",
    "    else:\n",
    "        total_points = np.vstack((total_points, points_3d[:, 0, :]))\n",
    "        points_left = np.array(cm_mask_1, dtype=np.int32)\n",
    "        color_vector = np.array([image_2[l[1], l[0]] for l in points_left.T])\n",
    "        total_colors = np.vstack((total_colors, color_vector)) \n",
    "    \n",
    "\n",
    "\n",
    "\n",
    "    transform_matrix_0 = np.copy(transform_matrix_1)\n",
    "    pose_0 = np.copy(pose_1)\n",
    "\n",
    "    image_0 = np.copy(image_1)\n",
    "    image_1 = np.copy(image_2)\n",
    "    feature_0 = np.copy(features_cur)\n",
    "    feature_1 = np.copy(features_2)\n",
    "    pose_1 = np.copy(pose_2)\n",
    "    cv2.imshow(img_obj.image_list[0].split('\\\\')[-2], image_2)\n",
    "    if cv2.waitKey(1) & 0xff == ord('q'):\n",
    "        break\n",
    "cv2.destroyAllWindows()\n"
   ]
  },
  {
   "cell_type": "markdown",
   "metadata": {},
   "source": [
    "Saving Results"
   ]
  },
  {
   "cell_type": "code",
   "execution_count": null,
   "metadata": {},
   "outputs": [
    {
     "name": "stdout",
     "output_type": "stream",
     "text": [
      "(19869, 3) (19869, 3)\n",
      "(19869, 3) (19869, 3)\n",
      "Completed Exiting ...\n"
     ]
    }
   ],
   "source": [
    "print(total_points.shape, total_colors.shape)\n",
    "img_obj.to_ply(total_points, total_colors)\n",
    "print(\"Completed Exiting ...\")\n",
    "np.savetxt(img_obj.path + '\\\\res\\\\' + img_obj.image_list[0].split('\\\\')[-2]+'_pose_array.csv', pose_array, delimiter = '\\n')"
   ]
  }
 ],
 "metadata": {
  "kernelspec": {
   "display_name": "pobr",
   "language": "python",
   "name": "python3"
  },
  "language_info": {
   "codemirror_mode": {
    "name": "ipython",
    "version": 3
   },
   "file_extension": ".py",
   "mimetype": "text/x-python",
   "name": "python",
   "nbconvert_exporter": "python",
   "pygments_lexer": "ipython3",
   "version": "3.6.13"
  }
 },
 "nbformat": 4,
 "nbformat_minor": 2
}
