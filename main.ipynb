{
 "cells": [
  {
   "cell_type": "code",
   "execution_count": 1,
   "metadata": {},
   "outputs": [],
   "source": []
  },
  {
   "cell_type": "code",
   "execution_count": 2,
   "metadata": {},
   "outputs": [],
   "source": [
    "class Camera:\n",
    "    def __init__(self, P):\n",
    "        self.P = P\n",
    "        self.K, self.R, self.t = self.decompose_projection_matrix(P)\n",
    "\n",
    "    @staticmethod\n",
    "    def decompose_projection_matrix(P):\n",
    "        # Extract the camera matrix (3x3) from P (3x4)\n",
    "        M = P[:, :3]\n",
    "        \n",
    "        # Perform RQ decomposition on the camera matrix M\n",
    "        K, R = np.linalg.qr(np.linalg.inv(M))\n",
    "        \n",
    "        # Adjust the matrices so that the diagonal elements of K are positive\n",
    "        T = np.diag(np.sign(np.diag(K)))\n",
    "        K = K @ T\n",
    "        R = T @ R\n",
    "        \n",
    "        # Ensure that K has positive diagonal elements\n",
    "        if np.linalg.det(R) < 0:\n",
    "            R = -R\n",
    "            K = -K\n",
    "        \n",
    "        # Compute the translation vector\n",
    "        t = np.linalg.inv(K) @ P[:, 3]\n",
    "\n",
    "        # Normalize K so that K[2, 2] == 1\n",
    "        K /= K[2, 2]\n",
    "\n",
    "        return K, R, t\n",
    "\n",
    "    def get_intrinsics(self):\n",
    "        return self.K\n",
    "\n",
    "    def get_rotation(self):\n",
    "        return self.R\n",
    "\n",
    "    def get_translation(self):\n",
    "        return self.t"
   ]
  },
  {
   "cell_type": "code",
   "execution_count": 3,
   "metadata": {},
   "outputs": [
    {
     "name": "stdout",
     "output_type": "stream",
     "text": [
      "Intrinsic matrix (K):\n",
      " [[1. 0. 0.]\n",
      " [0. 1. 0.]\n",
      " [0. 0. 1.]]\n",
      "Rotation matrix (R):\n",
      " [[ 0.001  0.    -0.32 ]\n",
      " [ 0.     0.001 -0.24 ]\n",
      " [ 0.     0.     1.   ]]\n",
      "Translation vector (t):\n",
      " [100. 200.   1.]\n"
     ]
    }
   ],
   "source": [
    "# Example usage:\n",
    "P = np.array([[1000, 0, 320, 100],\n",
    "              [0, 1000, 240, 200],\n",
    "              [0, 0, 1, 1]])\n",
    "\n",
    "camera = Camera(P)\n",
    "K = camera.get_intrinsics()\n",
    "R = camera.get_rotation()\n",
    "t = camera.get_translation()\n",
    "\n",
    "print(\"Intrinsic matrix (K):\\n\", K)\n",
    "print(\"Rotation matrix (R):\\n\", R)\n",
    "print(\"Translation vector (t):\\n\", t)"
   ]
  },
  {
   "cell_type": "code",
   "execution_count": 6,
   "metadata": {},
   "outputs": [],
   "source": [
    "from data import read_camera_params\n",
    "path = 'data/camera_params/'\n",
    "images_path = 'data/images/'\n",
    "cameras_params = read_camera_params(path)\n",
    "cameras = [Camera(cp) for cp in cameras_params]"
   ]
  },
  {
   "cell_type": "code",
   "execution_count": 5,
   "metadata": {},
   "outputs": [
    {
     "data": {
      "text/plain": [
       "array([[ 1.00057734e+00, -4.42127040e-04,  1.36591234e-04],\n",
       "       [ 4.46511737e-04,  9.99999910e-01, -3.39884738e-02],\n",
       "       [-1.21493841e-04,  3.39885312e-02,  1.00000000e+00]])"
      ]
     },
     "execution_count": 5,
     "metadata": {},
     "output_type": "execute_result"
    }
   ],
   "source": [
    "cameras[0].get_intrinsics()"
   ]
  },
  {
   "cell_type": "code",
   "execution_count": 12,
   "metadata": {},
   "outputs": [
    {
     "data": {
      "image/png": "[encoded data removed]",
      "text/plain": [
       "<Figure size 432x288 with 1 Axes>"
      ]
     },
     "metadata": {
      "needs_background": "light"
     },
     "output_type": "display_data"
    },
    {
     "name": "stdout",
     "output_type": "stream",
     "text": [
      "Camera 1 Intrinsic matrix (K):\n",
      " [[ 1.00057734e+00 -4.42127040e-04  1.36591234e-04]\n",
      " [ 4.46511737e-04  9.99999910e-01 -3.39884738e-02]\n",
      " [-1.21493841e-04  3.39885312e-02  1.00000000e+00]]\n",
      "Camera 1 Rotation matrix (R):\n",
      " [[ 1.49907703e-03  4.26172089e-06 -5.99283491e-01]\n",
      " [-0.00000000e+00  1.48463774e-03 -3.94859834e-01]\n",
      " [-0.00000000e+00 -0.00000000e+00  9.98782048e-01]]\n",
      "Camera 1 Translation vector (t):\n",
      " [ 6.41713830e+01  7.33589183e-01 -3.41247046e-02]\n",
      "Camera 2 Intrinsic matrix (K):\n",
      " [[ 0.99767649  0.06929313 -0.17716573]\n",
      " [-0.07260131  1.01297421 -0.01264617]\n",
      " [ 0.17583596  0.02508661  1.        ]]\n",
      "Camera 2 Rotation matrix (R):\n",
      " [[ 1.52576378e-03  4.56086830e-06 -6.02284479e-01]\n",
      " [-0.00000000e+00  1.53256660e-03 -4.26248454e-01]\n",
      " [-0.00000000e+00 -0.00000000e+00  1.01095600e+00]]\n",
      "Camera 2 Translation vector (t):\n",
      " [ 681.62287745   81.16207947 -121.8871832 ]\n"
     ]
    }
   ],
   "source": [
    "\n",
    "\n",
    "def detect_and_match_keypoints(self,img1, img2):\n",
    "    sift = cv2.SIFT_create()\n",
    "    keypoints1, descriptors1 = sift.detectAndCompute(img1, None)\n",
    "    keypoints2, descriptors2 = sift.detectAndCompute(img2, None)\n",
    "\n",
    "    bf = cv2.BFMatcher(cv2.NORM_L2, crossCheck=True)\n",
    "    matches = bf.match(descriptors1, descriptors2)\n",
    "    matches = sorted(matches, key=lambda x: x.distance)\n",
    "\n",
    "    num_matches = 50\n",
    "    matches = matches[:num_matches]\n",
    "\n",
    "    points1 = np.zeros((len(matches), 2), dtype=np.float32)\n",
    "    points2 = np.zeros((len(matches), 2), dtype=np.float32)\n",
    "\n",
    "    for i, match in enumerate(matches):\n",
    "        points1[i, :] = keypoints1[match.queryIdx].pt\n",
    "        points2[i, :] = keypoints2[match.trainIdx].pt\n",
    "\n",
    "    return points1, points2\n",
    "\n",
    "\n",
    "# Function to perform triangulation\n",
    "def triangulate_points(P1, P2, points1, points2):\n",
    "    points4D = cv2.triangulatePoints(P1, P2, points1.T, points2.T)\n",
    "    points4D /= points4D[3]\n",
    "    return points4D\n",
    "\n",
    "# Load the images\n",
    "img1 = cv2.imread(images_path + 'house.00' + str(0) + '.pgm')\n",
    "img2 = cv2.imread(images_path + 'house.00' + str(0) + '.pgm')\n",
    "\n",
    "\n",
    "P1 = cameras_params[0]\n",
    "P2 = cameras_params[1]\n",
    "\n",
    "camera1 = Camera(P1)\n",
    "camera2 = Camera(P2)\n",
    "\n",
    "points1, points2 = detect_and_match_keypoints(img1, img2)\n",
    "\n",
    "points4D = triangulate_points(P1, P2, points1, points2)\n",
    "\n",
    "fig = plt.figure()\n",
    "ax = fig.add_subplot(111, projection='3d')\n",
    "ax.scatter(points4D[0], points4D[1], points4D[2])\n",
    "plt.show()\n",
    "\n",
    "# Print the intrinsic, rotation, and translation matrices\n",
    "print(\"Camera 1 Intrinsic matrix (K):\\n\", camera1.get_intrinsics())\n",
    "print(\"Camera 1 Rotation matrix (R):\\n\", camera1.get_rotation())\n",
    "print(\"Camera 1 Translation vector (t):\\n\", camera1.get_translation())\n",
    "\n",
    "print(\"Camera 2 Intrinsic matrix (K):\\n\", camera2.get_intrinsics())\n",
    "print(\"Camera 2 Rotation matrix (R):\\n\", camera2.get_rotation())\n",
    "print(\"Camera 2 Translation vector (t):\\n\", camera2.get_translation())"
   ]
  },
  {
   "cell_type": "markdown",
   "metadata": {},
   "source": [
    "## Imports"
   ]
  },
  {
   "cell_type": "code",
   "execution_count": 3,
   "metadata": {},
   "outputs": [
    {
     "ename": "ModuleNotFoundError",
     "evalue": "No module named 'lib.py'; 'lib' is not a package",
     "output_type": "error",
     "traceback": [
      "\u001b[1;31m---------------------------------------------------------------------------\u001b[0m",
      "\u001b[1;31mModuleNotFoundError\u001b[0m                       Traceback (most recent call last)",
      "\u001b[1;32m<ipython-input-3-86f17fff20f1>\u001b[0m in \u001b[0;36m<module>\u001b[1;34m\u001b[0m\n\u001b[0;32m      2\u001b[0m \u001b[1;32mimport\u001b[0m \u001b[0mcv2\u001b[0m\u001b[1;33m\u001b[0m\u001b[1;33m\u001b[0m\u001b[0m\n\u001b[0;32m      3\u001b[0m \u001b[1;32mfrom\u001b[0m \u001b[0mmatplotlib\u001b[0m \u001b[1;32mimport\u001b[0m \u001b[0mpyplot\u001b[0m \u001b[1;32mas\u001b[0m \u001b[0mplt\u001b[0m\u001b[1;33m\u001b[0m\u001b[1;33m\u001b[0m\u001b[0m\n\u001b[1;32m----> 4\u001b[1;33m \u001b[1;32mfrom\u001b[0m \u001b[0mlib\u001b[0m\u001b[1;33m.\u001b[0m\u001b[0mpy\u001b[0m \u001b[1;32mimport\u001b[0m \u001b[0mCamera\u001b[0m \u001b[1;32mas\u001b[0m \u001b[0mCamera\u001b[0m\u001b[1;33m\u001b[0m\u001b[1;33m\u001b[0m\u001b[0m\n\u001b[0m",
      "\u001b[1;31mModuleNotFoundError\u001b[0m: No module named 'lib.py'; 'lib' is not a package"
     ]
    }
   ],
   "source": [
    "import numpy as np\n",
    "import cv2\n",
    "from matplotlib import pyplot as plt\n",
    "from lib import "
   ]
  },
  {
   "cell_type": "markdown",
   "metadata": {},
   "source": [
    "## 0. Setup"
   ]
  },
  {
   "cell_type": "code",
   "execution_count": null,
   "metadata": {},
   "outputs": [],
   "source": [
    "path = 'data/camera_params/'\n",
    "images_path = 'data/images/'\n",
    "cameras_params = read_camera_params(path)\n",
    "cameras = [Camera(cp) for cp in cameras_params]"
   ]
  }
 ],
 "metadata": {
  "kernelspec": {
   "display_name": "pobr",
   "language": "python",
   "name": "python3"
  },
  "language_info": {
   "codemirror_mode": {
    "name": "ipython",
    "version": 3
   },
   "file_extension": ".py",
   "mimetype": "text/x-python",
   "name": "python",
   "nbconvert_exporter": "python",
   "pygments_lexer": "ipython3",
   "version": "3.6.13"
  }
 },
 "nbformat": 4,
 "nbformat_minor": 2
}
